{
 "cells": [
  {
   "cell_type": "markdown",
   "metadata": {
    "tags": [
     "Setup"
    ]
   },
   "source": [
    "## Set up environment."
   ]
  },
  {
   "cell_type": "code",
   "execution_count": 1,
   "metadata": {
    "tags": [
     "Setup"
    ]
   },
   "outputs": [],
   "source": [
    "# Import libraries and modules.\n",
    "import numpy  as np\n",
    "import pandas as pd\n",
    "\n",
    "import glob\n",
    "import random\n",
    "import re\n",
    "\n",
    "# Increase number of columns that can be viewed in notebook.\n",
    "pd.set_option('display.max_columns', 500)\n",
    "\n",
    "# Set random seed for reproducibility.\n",
    "random.seed(42)"
   ]
  },
  {
   "cell_type": "code",
   "execution_count": 2,
   "metadata": {
    "tags": [
     "Setup"
    ]
   },
   "outputs": [
    {
     "name": "stdout",
     "output_type": "stream",
     "text": [
      "** 1000 reviews will be sampled. **\n",
      "\n",
      "** The tokenized data will be saved in \"./data/tokens_s1000.csv\". **\n"
     ]
    }
   ],
   "source": [
    "# Specify the number of reviews of each type (pos and neg) to sample.\n",
    "n = 500\n",
    "\n",
    "# Set file location for output file.\n",
    "tokens_csv = (f'./data/tokens_s{n*2}.csv')\n",
    "\n",
    "# Print messages.\n",
    "print(f'** {n*2} reviews will be sampled. **')\n",
    "print()\n",
    "print(f'** The tokenized data will be saved in \"{tokens_csv}\". **')"
   ]
  },
  {
   "cell_type": "markdown",
   "metadata": {
    "tags": [
     "DataCollection"
    ]
   },
   "source": [
    "## Load data."
   ]
  },
  {
   "cell_type": "code",
   "execution_count": 3,
   "metadata": {
    "tags": [
     "DataCollection"
    ]
   },
   "outputs": [],
   "source": [
    "# Create a dictionary in which the keys are part of the file names\n",
    "# and the values are the classification labels (targets).\n",
    "review_dict = {'pos' : 1,\n",
    "               'neg' : 0}\n",
    "\n",
    "# Initialize a list to store all the samples.\n",
    "review_text = []\n",
    "\n",
    "# Collect the samples for each review type.\n",
    "for r in review_dict:\n",
    "    \n",
    "    # Generate a complete list of file names.\n",
    "    review_files = glob.glob('./data/train/' + r + '/' '*.txt')\n",
    "    \n",
    "    # Randomly select files.\n",
    "    selected_files = np.random.choice(review_files, n, replace=False)\n",
    "   \n",
    "    # Load each file.\n",
    "    for sample_file in selected_files:\n",
    "        \n",
    "        with open(sample_file, 'r') as f:\n",
    "                  data=f.read().replace('\\n', '')\n",
    "         \n",
    "        # Label the text and save it.\n",
    "        review_text.append([review_dict[r], data])\n",
    "    "
   ]
  },
  {
   "cell_type": "code",
   "execution_count": 5,
   "metadata": {
    "tags": [
     "DataCollection"
    ]
   },
   "outputs": [
    {
     "data": {
      "text/html": [
       "<div>\n",
       "<style scoped>\n",
       "    .dataframe tbody tr th:only-of-type {\n",
       "        vertical-align: middle;\n",
       "    }\n",
       "\n",
       "    .dataframe tbody tr th {\n",
       "        vertical-align: top;\n",
       "    }\n",
       "\n",
       "    .dataframe thead th {\n",
       "        text-align: right;\n",
       "    }\n",
       "</style>\n",
       "<table border=\"1\" class=\"dataframe\">\n",
       "  <thead>\n",
       "    <tr style=\"text-align: right;\">\n",
       "      <th></th>\n",
       "      <th>label</th>\n",
       "      <th>text</th>\n",
       "    </tr>\n",
       "  </thead>\n",
       "  <tbody>\n",
       "    <tr>\n",
       "      <th>0</th>\n",
       "      <td>1</td>\n",
       "      <td>Talk about a blast opening, \"Trampa Infernal\" ...</td>\n",
       "    </tr>\n",
       "    <tr>\n",
       "      <th>1</th>\n",
       "      <td>1</td>\n",
       "      <td>After all these years I still consider this se...</td>\n",
       "    </tr>\n",
       "    <tr>\n",
       "      <th>2</th>\n",
       "      <td>1</td>\n",
       "      <td>I saw this film last night on cable and it is ...</td>\n",
       "    </tr>\n",
       "    <tr>\n",
       "      <th>3</th>\n",
       "      <td>1</td>\n",
       "      <td>Based on a true story, this series is a gem wi...</td>\n",
       "    </tr>\n",
       "    <tr>\n",
       "      <th>4</th>\n",
       "      <td>1</td>\n",
       "      <td>It was life-changing, IT REALLY WAS!!!The Man ...</td>\n",
       "    </tr>\n",
       "  </tbody>\n",
       "</table>\n",
       "</div>"
      ],
      "text/plain": [
       "   label                                               text\n",
       "0      1  Talk about a blast opening, \"Trampa Infernal\" ...\n",
       "1      1  After all these years I still consider this se...\n",
       "2      1  I saw this film last night on cable and it is ...\n",
       "3      1  Based on a true story, this series is a gem wi...\n",
       "4      1  It was life-changing, IT REALLY WAS!!!The Man ..."
      ]
     },
     "execution_count": 5,
     "metadata": {},
     "output_type": "execute_result"
    }
   ],
   "source": [
    "# Load reviews to a dataframe.\n",
    "cols = ['label', 'text']\n",
    "\n",
    "df = pd.DataFrame(review_text, columns=cols)\n",
    "\n",
    "# Take a look.  Pos reviews were loaded first.\n",
    "df.head()"
   ]
  },
  {
   "cell_type": "code",
   "execution_count": 6,
   "metadata": {},
   "outputs": [
    {
     "data": {
      "text/html": [
       "<div>\n",
       "<style scoped>\n",
       "    .dataframe tbody tr th:only-of-type {\n",
       "        vertical-align: middle;\n",
       "    }\n",
       "\n",
       "    .dataframe tbody tr th {\n",
       "        vertical-align: top;\n",
       "    }\n",
       "\n",
       "    .dataframe thead th {\n",
       "        text-align: right;\n",
       "    }\n",
       "</style>\n",
       "<table border=\"1\" class=\"dataframe\">\n",
       "  <thead>\n",
       "    <tr style=\"text-align: right;\">\n",
       "      <th></th>\n",
       "      <th>label</th>\n",
       "      <th>text</th>\n",
       "    </tr>\n",
       "  </thead>\n",
       "  <tbody>\n",
       "    <tr>\n",
       "      <th>995</th>\n",
       "      <td>0</td>\n",
       "      <td>Okay, I remember watching the first one, and b...</td>\n",
       "    </tr>\n",
       "    <tr>\n",
       "      <th>996</th>\n",
       "      <td>0</td>\n",
       "      <td>Flame in, flame out. That seems to be Gammera ...</td>\n",
       "    </tr>\n",
       "    <tr>\n",
       "      <th>997</th>\n",
       "      <td>0</td>\n",
       "      <td>This movie is a re-write of the 1978 Warren Be...</td>\n",
       "    </tr>\n",
       "    <tr>\n",
       "      <th>998</th>\n",
       "      <td>0</td>\n",
       "      <td>This movie has some fatal flaws in it, how som...</td>\n",
       "    </tr>\n",
       "    <tr>\n",
       "      <th>999</th>\n",
       "      <td>0</td>\n",
       "      <td>This movie is a perfect example of an excellen...</td>\n",
       "    </tr>\n",
       "  </tbody>\n",
       "</table>\n",
       "</div>"
      ],
      "text/plain": [
       "     label                                               text\n",
       "995      0  Okay, I remember watching the first one, and b...\n",
       "996      0  Flame in, flame out. That seems to be Gammera ...\n",
       "997      0  This movie is a re-write of the 1978 Warren Be...\n",
       "998      0  This movie has some fatal flaws in it, how som...\n",
       "999      0  This movie is a perfect example of an excellen..."
      ]
     },
     "execution_count": 6,
     "metadata": {},
     "output_type": "execute_result"
    }
   ],
   "source": [
    "# Verify neg reviews at the end.\n",
    "df.tail()"
   ]
  },
  {
   "cell_type": "code",
   "execution_count": 7,
   "metadata": {
    "tags": [
     "DataCollection"
    ]
   },
   "outputs": [
    {
     "name": "stdout",
     "output_type": "stream",
     "text": [
      "<class 'pandas.core.frame.DataFrame'>\n",
      "RangeIndex: 1000 entries, 0 to 999\n",
      "Data columns (total 2 columns):\n",
      "label    1000 non-null int64\n",
      "text     1000 non-null object\n",
      "dtypes: int64(1), object(1)\n",
      "memory usage: 15.7+ KB\n"
     ]
    }
   ],
   "source": [
    "# Take a look at the summary info.\n",
    "df.info()"
   ]
  },
  {
   "cell_type": "markdown",
   "metadata": {
    "tags": [
     "Cleaning"
    ]
   },
   "source": [
    " ## Data Cleaning \n",
    " \n",
    " **Process:** \n",
    " \n",
    "- Remove duplicates.\n",
    "- Handle null values."
   ]
  },
  {
   "cell_type": "markdown",
   "metadata": {
    "tags": [
     "Cleaning"
    ]
   },
   "source": [
    "### Remove duplicates."
   ]
  },
  {
   "cell_type": "code",
   "execution_count": 8,
   "metadata": {
    "tags": [
     "Cleaning"
    ]
   },
   "outputs": [
    {
     "data": {
      "text/plain": [
       "(1000, 2)"
      ]
     },
     "execution_count": 8,
     "metadata": {},
     "output_type": "execute_result"
    }
   ],
   "source": [
    "# Drop duplicates.\n",
    "df.drop_duplicates(subset=cols, keep='first', inplace=True)\n",
    "\n",
    "# Reset index.\n",
    "df.reset_index(drop=True, inplace=True)\n",
    "\n",
    "# Verify update.\n",
    "df.shape"
   ]
  },
  {
   "cell_type": "markdown",
   "metadata": {
    "tags": [
     "Cleaning"
    ]
   },
   "source": [
    "### Handle null values."
   ]
  },
  {
   "cell_type": "code",
   "execution_count": 9,
   "metadata": {
    "tags": [
     "Cleaning"
    ]
   },
   "outputs": [],
   "source": [
    "# Drop reviews that are null.\n",
    "df.dropna(axis=0, subset=['text'], inplace=True)\n",
    "\n",
    "# Reset the index.\n",
    "df.reset_index(drop=True, inplace=True)"
   ]
  },
  {
   "cell_type": "markdown",
   "metadata": {
    "tags": [
     "NLPreprocessing"
    ]
   },
   "source": [
    "## Tokenization \n",
    "\n",
    "**Process:** \n",
    "\n",
    "- Tokenize the text:\n",
    "    - Remove the new line HTML tag.\n",
    "    - Convert common contractions to words.\n",
    "    - Remove non-letter characters.\n",
    "    - Convert to lower case.\n",
    "    - Remove extra spaces."
   ]
  },
  {
   "cell_type": "code",
   "execution_count": 10,
   "metadata": {
    "tags": [
     "NLPreprocessing"
    ]
   },
   "outputs": [],
   "source": [
    "def text_sub(dict, text):\n",
    "    # Function:  text_sub\n",
    "    # This function applies regex commands to text.\n",
    "    \n",
    "    # Bundle the substitutions from the dictionary into a regrex module.\n",
    "    regex = re.compile(\"(%s)\" % \"|\".join(map(re.escape, dict.keys())))\n",
    "\n",
    "    # Execute the substitutions.\n",
    "    return regex.sub(lambda mo: dict[mo.string[mo.start():mo.end()]], text)"
   ]
  },
  {
   "cell_type": "code",
   "execution_count": 11,
   "metadata": {
    "tags": [
     "NLPreprocessing"
    ]
   },
   "outputs": [],
   "source": [
    "def tokenize_text(row, dict):\n",
    "    # Function to tokenize, remove stop words from, and lemmatize words from a string of text.\n",
    "    # Add the preprocessed string to the row as a new feature. \n",
    "    \n",
    "    # Function:  tokenize_text\n",
    "    # This function standardizes and separates the review input into tokens.\n",
    "    # The tokens are saved as a new column in the dataframe.\n",
    "    \n",
    "    # Make regex substitutions.\n",
    "    text          = text_sub(dict, row['text'].lower())\n",
    "    \n",
    "    # Remove non-letters.\n",
    "    text_letters  = re.sub(\"[^a-zA-Z]\", \" \", text)\n",
    " \n",
    "    # Remove extra spaces.\n",
    "    text_tokens   = text_letters.lower().split()\n",
    "    \n",
    "    # Join the tokens back into a string and add as a new column.\n",
    "    row['tokens'] = \" \".join(text_tokens)\n",
    "\n",
    "    # Return the row.\n",
    "    return row"
   ]
  },
  {
   "cell_type": "code",
   "execution_count": 15,
   "metadata": {
    "tags": [
     "NLPreprocessing"
    ]
   },
   "outputs": [
    {
     "data": {
      "text/html": [
       "<div>\n",
       "<style scoped>\n",
       "    .dataframe tbody tr th:only-of-type {\n",
       "        vertical-align: middle;\n",
       "    }\n",
       "\n",
       "    .dataframe tbody tr th {\n",
       "        vertical-align: top;\n",
       "    }\n",
       "\n",
       "    .dataframe thead th {\n",
       "        text-align: right;\n",
       "    }\n",
       "</style>\n",
       "<table border=\"1\" class=\"dataframe\">\n",
       "  <thead>\n",
       "    <tr style=\"text-align: right;\">\n",
       "      <th></th>\n",
       "      <th>label</th>\n",
       "      <th>tokens</th>\n",
       "    </tr>\n",
       "  </thead>\n",
       "  <tbody>\n",
       "    <tr>\n",
       "      <th>0</th>\n",
       "      <td>1</td>\n",
       "      <td>talk about a blast opening trampa infernal has...</td>\n",
       "    </tr>\n",
       "    <tr>\n",
       "      <th>1</th>\n",
       "      <td>1</td>\n",
       "      <td>after all these years i still consider this se...</td>\n",
       "    </tr>\n",
       "    <tr>\n",
       "      <th>2</th>\n",
       "      <td>1</td>\n",
       "      <td>i saw this film last night on cable and it is ...</td>\n",
       "    </tr>\n",
       "    <tr>\n",
       "      <th>3</th>\n",
       "      <td>1</td>\n",
       "      <td>based on a true story this series is a gem wit...</td>\n",
       "    </tr>\n",
       "    <tr>\n",
       "      <th>4</th>\n",
       "      <td>1</td>\n",
       "      <td>it was life changing it really was the man in ...</td>\n",
       "    </tr>\n",
       "    <tr>\n",
       "      <th>5</th>\n",
       "      <td>1</td>\n",
       "      <td>the first two sequences of this movie set up t...</td>\n",
       "    </tr>\n",
       "    <tr>\n",
       "      <th>6</th>\n",
       "      <td>1</td>\n",
       "      <td>cat soup at first seems to be a very random an...</td>\n",
       "    </tr>\n",
       "    <tr>\n",
       "      <th>7</th>\n",
       "      <td>1</td>\n",
       "      <td>a fey story of a martian attempt to colonize e...</td>\n",
       "    </tr>\n",
       "    <tr>\n",
       "      <th>8</th>\n",
       "      <td>1</td>\n",
       "      <td>vincent price is follow up to house of wax the...</td>\n",
       "    </tr>\n",
       "    <tr>\n",
       "      <th>9</th>\n",
       "      <td>1</td>\n",
       "      <td>i saw fever pitch sort of by accident it was p...</td>\n",
       "    </tr>\n",
       "    <tr>\n",
       "      <th>10</th>\n",
       "      <td>1</td>\n",
       "      <td>this is a short crudely animated series by dav...</td>\n",
       "    </tr>\n",
       "    <tr>\n",
       "      <th>11</th>\n",
       "      <td>1</td>\n",
       "      <td>one of my favorite shows back in the s as i re...</td>\n",
       "    </tr>\n",
       "    <tr>\n",
       "      <th>12</th>\n",
       "      <td>1</td>\n",
       "      <td>ok it was a good american pie erick stifler go...</td>\n",
       "    </tr>\n",
       "    <tr>\n",
       "      <th>13</th>\n",
       "      <td>1</td>\n",
       "      <td>i did not like the pretentious and overrated a...</td>\n",
       "    </tr>\n",
       "    <tr>\n",
       "      <th>14</th>\n",
       "      <td>1</td>\n",
       "      <td>i had to give this film a simply because it di...</td>\n",
       "    </tr>\n",
       "    <tr>\n",
       "      <th>15</th>\n",
       "      <td>1</td>\n",
       "      <td>this review comes nearly years late neverthele...</td>\n",
       "    </tr>\n",
       "    <tr>\n",
       "      <th>16</th>\n",
       "      <td>1</td>\n",
       "      <td>i enjoyed the film and would suggest to anyone...</td>\n",
       "    </tr>\n",
       "    <tr>\n",
       "      <th>17</th>\n",
       "      <td>1</td>\n",
       "      <td>i thought this would be a sequel to the origin...</td>\n",
       "    </tr>\n",
       "    <tr>\n",
       "      <th>18</th>\n",
       "      <td>1</td>\n",
       "      <td>i will tell you a tale of the summer of a frie...</td>\n",
       "    </tr>\n",
       "    <tr>\n",
       "      <th>19</th>\n",
       "      <td>1</td>\n",
       "      <td>when it comes to creating a universe george lu...</td>\n",
       "    </tr>\n",
       "    <tr>\n",
       "      <th>20</th>\n",
       "      <td>1</td>\n",
       "      <td>jared diamond made a point in the first episod...</td>\n",
       "    </tr>\n",
       "    <tr>\n",
       "      <th>21</th>\n",
       "      <td>1</td>\n",
       "      <td>it is very funny it has a great cast who each ...</td>\n",
       "    </tr>\n",
       "    <tr>\n",
       "      <th>22</th>\n",
       "      <td>1</td>\n",
       "      <td>it is first and foremost a chick flick it is a...</td>\n",
       "    </tr>\n",
       "    <tr>\n",
       "      <th>23</th>\n",
       "      <td>1</td>\n",
       "      <td>what a relief to find out i am not imagining t...</td>\n",
       "    </tr>\n",
       "    <tr>\n",
       "      <th>24</th>\n",
       "      <td>1</td>\n",
       "      <td>i admit that i am a vampire addict i have seen...</td>\n",
       "    </tr>\n",
       "  </tbody>\n",
       "</table>\n",
       "</div>"
      ],
      "text/plain": [
       "    label                                             tokens\n",
       "0       1  talk about a blast opening trampa infernal has...\n",
       "1       1  after all these years i still consider this se...\n",
       "2       1  i saw this film last night on cable and it is ...\n",
       "3       1  based on a true story this series is a gem wit...\n",
       "4       1  it was life changing it really was the man in ...\n",
       "5       1  the first two sequences of this movie set up t...\n",
       "6       1  cat soup at first seems to be a very random an...\n",
       "7       1  a fey story of a martian attempt to colonize e...\n",
       "8       1  vincent price is follow up to house of wax the...\n",
       "9       1  i saw fever pitch sort of by accident it was p...\n",
       "10      1  this is a short crudely animated series by dav...\n",
       "11      1  one of my favorite shows back in the s as i re...\n",
       "12      1  ok it was a good american pie erick stifler go...\n",
       "13      1  i did not like the pretentious and overrated a...\n",
       "14      1  i had to give this film a simply because it di...\n",
       "15      1  this review comes nearly years late neverthele...\n",
       "16      1  i enjoyed the film and would suggest to anyone...\n",
       "17      1  i thought this would be a sequel to the origin...\n",
       "18      1  i will tell you a tale of the summer of a frie...\n",
       "19      1  when it comes to creating a universe george lu...\n",
       "20      1  jared diamond made a point in the first episod...\n",
       "21      1  it is very funny it has a great cast who each ...\n",
       "22      1  it is first and foremost a chick flick it is a...\n",
       "23      1  what a relief to find out i am not imagining t...\n",
       "24      1  i admit that i am a vampire addict i have seen..."
      ]
     },
     "execution_count": 15,
     "metadata": {},
     "output_type": "execute_result"
    }
   ],
   "source": [
    "# Keep only needed columns.\n",
    "df = df[['label', 'tokens']]\n",
    "\n",
    "# Verify update.\n",
    "df.head(25)"
   ]
  },
  {
   "cell_type": "markdown",
   "metadata": {
    "tags": [
     "Wrapup"
    ]
   },
   "source": [
    "## Save file."
   ]
  },
  {
   "cell_type": "code",
   "execution_count": 13,
   "metadata": {
    "tags": [
     "Wrapup"
    ]
   },
   "outputs": [],
   "source": [
    "# Save.\n",
    "df.to_csv(tokens_csv, encoding='utf-8',index=False)"
   ]
  },
  {
   "cell_type": "code",
   "execution_count": null,
   "metadata": {},
   "outputs": [],
   "source": []
  }
 ],
 "metadata": {
  "celltoolbar": "Tags",
  "kernelspec": {
   "display_name": "Python 3",
   "language": "python",
   "name": "python3"
  },
  "language_info": {
   "codemirror_mode": {
    "name": "ipython",
    "version": 3
   },
   "file_extension": ".py",
   "mimetype": "text/x-python",
   "name": "python",
   "nbconvert_exporter": "python",
   "pygments_lexer": "ipython3",
   "version": "3.6.8"
  }
 },
 "nbformat": 4,
 "nbformat_minor": 2
}
