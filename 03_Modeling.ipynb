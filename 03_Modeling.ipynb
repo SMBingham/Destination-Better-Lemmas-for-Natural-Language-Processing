{
 "cells": [
  {
   "cell_type": "markdown",
   "metadata": {},
   "source": [
    "# Capstone Project: Improving NLTK's Lemmatization Process\n",
    "\n",
    "Submitted by Shannon Bingham\n",
    "February 2019\n",
    "\n",
    "\n",
    "## Executive Summary\n",
    "The Natural Language Toolkit (NLTK) is a widely used open source solution for computer processing and analysis of human language.  The toolkit includes many useful utilities including an interface to the WordNet lexical reference database.  When I used the toolkit's stemming and lemmatizing programs for a Natural Language Processing (NLP) classification project at General Assembly, I grew very curious about first, the data that was being created, and second, the logic going on under the hood.  My questions led me to wonder about how I could improve the quality of my input data, especially given that the sheer number of features in an NLP project makes it quite challenging to understand what the data looks like.\n",
    "\n",
    "For my capstone project, I decided to improve the NLTK interface to WordNet.  My work on this project led to many interesting insights about electronic dictionaries as well as about language processing in general.  Over the course of  project, I became more deeply interested in NLP, an area in data science that is growing rapidly.  The changes that I made to the toolkit built a foundation that provides greater control over the lemmatization process and, thus, more opportunity to improve data.  The changes will be available for implementation anywhere.\n",
    "\n",
    "## Notebook Description\n",
    "This notebook includes all the code I used to model the test and production outputs from lemmatization, one sample  at a time.  Three models are built in this notebook:  SGDClassifier, MultinomialNB, and SentimentIntensityAnalyzer with GaussianNB. Please note the Setup cell that drives the variables substitutions."
   ]
  },
  {
   "cell_type": "markdown",
   "metadata": {
    "tags": [
     "Setup"
    ]
   },
   "source": [
    "### Set up environment."
   ]
  },
  {
   "cell_type": "code",
   "execution_count": 1,
   "metadata": {
    "tags": [
     "Setup"
    ]
   },
   "outputs": [],
   "source": [
    "# Import needed libraries and modules.\n",
    "import numpy             as np\n",
    "import pandas            as pd\n",
    "import seaborn           as sns\n",
    "import matplotlib.pyplot as plt\n",
    "\n",
    "import itertools\n",
    "import random\n",
    "import re\n",
    "import time\n",
    "\n",
    "from nltk.sentiment.vader            import SentimentIntensityAnalyzer\n",
    "\n",
    "from sklearn.feature_extraction.text import CountVectorizer, TfidfTransformer\n",
    "from sklearn.linear_model            import SGDClassifier\n",
    "from sklearn.metrics                 import accuracy_score, confusion_matrix\n",
    "from sklearn.model_selection         import train_test_split\n",
    "from sklearn.naive_bayes             import GaussianNB, MultinomialNB\n",
    "from sklearn.pipeline                import Pipeline\n",
    "\n",
    "# View plot within notebook.\n",
    "%matplotlib inline\n",
    "\n",
    "# Increase number of columns that can be viewed in notebook.\n",
    "pd.set_option('display.max_columns', 500)\n",
    "\n",
    "# Set random seed for reproducibility.\n",
    "random.seed(42)"
   ]
  },
  {
   "cell_type": "code",
   "execution_count": 2,
   "metadata": {
    "tags": [
     "Setup"
    ]
   },
   "outputs": [],
   "source": [
    "# Suppress deprecation warnings.\n",
    "import warnings\n",
    "\n",
    "def fxn():\n",
    "    warnings.warn(\"deprecated\", DeprecationWarning)\n",
    "\n",
    "with warnings.catch_warnings():\n",
    "    warnings.simplefilter(\"ignore\")\n",
    "    fxn()"
   ]
  },
  {
   "cell_type": "code",
   "execution_count": 3,
   "metadata": {
    "tags": [
     "Setup"
    ]
   },
   "outputs": [
    {
     "name": "stdout",
     "output_type": "stream",
     "text": [
      "** The lemmas created by the dev WordNet will be used. **\n",
      "\n",
      "** The lemmatized data will be loaded from \"./data/lemmas_dev_s10000.csv\". **\n"
     ]
    }
   ],
   "source": [
    "# Specify the number of reviews of each type (pos and neg) being sampled.\n",
    "n = 5000\n",
    "\n",
    "# Specify whether the lemmas were created by the prod version of WordNet (True or False).\n",
    "prod = False\n",
    "if prod:\n",
    "    env = 'prod'\n",
    "else:\n",
    "    env = 'dev'\n",
    "\n",
    "# Set file location for input file.\n",
    "lemmas_csv = (f'./data/lemmas_{env}_s{n*2}.csv')\n",
    "\n",
    "# Print messages.\n",
    "print(f'** The lemmas created by the {env} WordNet will be used. **')\n",
    "print()\n",
    "print(f'** The lemmatized data will be loaded from \"{lemmas_csv}\". **')"
   ]
  },
  {
   "cell_type": "markdown",
   "metadata": {
    "tags": [
     "Loaddata"
    ]
   },
   "source": [
    "### Load data."
   ]
  },
  {
   "cell_type": "code",
   "execution_count": 4,
   "metadata": {
    "tags": [
     "Loaddata"
    ]
   },
   "outputs": [
    {
     "data": {
      "text/html": [
       "<div>\n",
       "<style scoped>\n",
       "    .dataframe tbody tr th:only-of-type {\n",
       "        vertical-align: middle;\n",
       "    }\n",
       "\n",
       "    .dataframe tbody tr th {\n",
       "        vertical-align: top;\n",
       "    }\n",
       "\n",
       "    .dataframe thead th {\n",
       "        text-align: right;\n",
       "    }\n",
       "</style>\n",
       "<table border=\"1\" class=\"dataframe\">\n",
       "  <thead>\n",
       "    <tr style=\"text-align: right;\">\n",
       "      <th></th>\n",
       "      <th>label</th>\n",
       "      <th>lemmas</th>\n",
       "    </tr>\n",
       "  </thead>\n",
       "  <tbody>\n",
       "    <tr>\n",
       "      <th>0</th>\n",
       "      <td>1</td>\n",
       "      <td>sergio martino be the case of the scorpion be ...</td>\n",
       "    </tr>\n",
       "    <tr>\n",
       "      <th>1</th>\n",
       "      <td>1</td>\n",
       "      <td>this be a very good make for tv film it depict...</td>\n",
       "    </tr>\n",
       "    <tr>\n",
       "      <th>2</th>\n",
       "      <td>1</td>\n",
       "      <td>this be not a love song be a brilliant example...</td>\n",
       "    </tr>\n",
       "    <tr>\n",
       "      <th>3</th>\n",
       "      <td>1</td>\n",
       "      <td>i must admit at first i be not expect anything...</td>\n",
       "    </tr>\n",
       "    <tr>\n",
       "      <th>4</th>\n",
       "      <td>1</td>\n",
       "      <td>those individual familiar with asian cinema as...</td>\n",
       "    </tr>\n",
       "  </tbody>\n",
       "</table>\n",
       "</div>"
      ],
      "text/plain": [
       "   label                                             lemmas\n",
       "0      1  sergio martino be the case of the scorpion be ...\n",
       "1      1  this be a very good make for tv film it depict...\n",
       "2      1  this be not a love song be a brilliant example...\n",
       "3      1  i must admit at first i be not expect anything...\n",
       "4      1  those individual familiar with asian cinema as..."
      ]
     },
     "execution_count": 4,
     "metadata": {},
     "output_type": "execute_result"
    }
   ],
   "source": [
    "# Load the data.\n",
    "df = pd.read_csv(lemmas_csv)\n",
    "\n",
    "# Take a look at the data.\n",
    "df.head()"
   ]
  },
  {
   "cell_type": "code",
   "execution_count": 5,
   "metadata": {
    "tags": [
     "Loaddata"
    ]
   },
   "outputs": [
    {
     "data": {
      "text/html": [
       "<div>\n",
       "<style scoped>\n",
       "    .dataframe tbody tr th:only-of-type {\n",
       "        vertical-align: middle;\n",
       "    }\n",
       "\n",
       "    .dataframe tbody tr th {\n",
       "        vertical-align: top;\n",
       "    }\n",
       "\n",
       "    .dataframe thead th {\n",
       "        text-align: right;\n",
       "    }\n",
       "</style>\n",
       "<table border=\"1\" class=\"dataframe\">\n",
       "  <thead>\n",
       "    <tr style=\"text-align: right;\">\n",
       "      <th></th>\n",
       "      <th>label</th>\n",
       "      <th>lemmas</th>\n",
       "    </tr>\n",
       "  </thead>\n",
       "  <tbody>\n",
       "    <tr>\n",
       "      <th>9981</th>\n",
       "      <td>0</td>\n",
       "      <td>raise victor vargas be one of those light fami...</td>\n",
       "    </tr>\n",
       "    <tr>\n",
       "      <th>9982</th>\n",
       "      <td>0</td>\n",
       "      <td>a nightmare on elm street the dream child this...</td>\n",
       "    </tr>\n",
       "    <tr>\n",
       "      <th>9983</th>\n",
       "      <td>0</td>\n",
       "      <td>spoiler i rent tesis or thesis in english on t...</td>\n",
       "    </tr>\n",
       "    <tr>\n",
       "      <th>9984</th>\n",
       "      <td>0</td>\n",
       "      <td>the only thing that prevent this flick from be...</td>\n",
       "    </tr>\n",
       "    <tr>\n",
       "      <th>9985</th>\n",
       "      <td>0</td>\n",
       "      <td>the concept of this make for tv horror movie b...</td>\n",
       "    </tr>\n",
       "  </tbody>\n",
       "</table>\n",
       "</div>"
      ],
      "text/plain": [
       "      label                                             lemmas\n",
       "9981      0  raise victor vargas be one of those light fami...\n",
       "9982      0  a nightmare on elm street the dream child this...\n",
       "9983      0  spoiler i rent tesis or thesis in english on t...\n",
       "9984      0  the only thing that prevent this flick from be...\n",
       "9985      0  the concept of this make for tv horror movie b..."
      ]
     },
     "execution_count": 5,
     "metadata": {},
     "output_type": "execute_result"
    }
   ],
   "source": [
    "# Take a look at the last records.\n",
    "df.tail()"
   ]
  },
  {
   "cell_type": "code",
   "execution_count": 6,
   "metadata": {
    "scrolled": true,
    "tags": [
     "Loaddata"
    ]
   },
   "outputs": [
    {
     "name": "stdout",
     "output_type": "stream",
     "text": [
      "<class 'pandas.core.frame.DataFrame'>\n",
      "RangeIndex: 9986 entries, 0 to 9985\n",
      "Data columns (total 2 columns):\n",
      "label     9986 non-null int64\n",
      "lemmas    9986 non-null object\n",
      "dtypes: int64(1), object(1)\n",
      "memory usage: 156.1+ KB\n"
     ]
    }
   ],
   "source": [
    "# Take a look at the column details.\n",
    "df.info()"
   ]
  },
  {
   "cell_type": "markdown",
   "metadata": {
    "tags": [
     "ModelPrep"
    ]
   },
   "source": [
    " ## Modeling Prep\n",
    " \n",
    " **Process:** \n",
    "\n",
    "- Calculate baseline accuracy.\n",
    "- Split data into train and test sets."
   ]
  },
  {
   "cell_type": "markdown",
   "metadata": {
    "tags": [
     "ModelPrep"
    ]
   },
   "source": [
    "### Calculate baseline accuracy."
   ]
  },
  {
   "cell_type": "code",
   "execution_count": 7,
   "metadata": {
    "tags": [
     "ModelPrep"
    ]
   },
   "outputs": [
    {
     "data": {
      "text/plain": [
       "1    4999\n",
       "0    4987\n",
       "Name: label, dtype: int64"
      ]
     },
     "execution_count": 7,
     "metadata": {},
     "output_type": "execute_result"
    }
   ],
   "source": [
    "# Verify number and balance of classes.\n",
    "df['label'].value_counts()"
   ]
  },
  {
   "cell_type": "code",
   "execution_count": 8,
   "metadata": {
    "tags": [
     "ModelPrep"
    ]
   },
   "outputs": [
    {
     "data": {
      "text/plain": [
       "1    0.500601\n",
       "0    0.499399\n",
       "Name: label, dtype: float64"
      ]
     },
     "execution_count": 8,
     "metadata": {},
     "output_type": "execute_result"
    }
   ],
   "source": [
    "# Look at the balance as percentages.\n",
    "df['label'].value_counts(normalize=True)"
   ]
  },
  {
   "cell_type": "code",
   "execution_count": 9,
   "metadata": {
    "tags": [
     "ModelPrep"
    ]
   },
   "outputs": [
    {
     "data": {
      "text/plain": [
       "0.5006008411776487"
      ]
     },
     "execution_count": 9,
     "metadata": {},
     "output_type": "execute_result"
    }
   ],
   "source": [
    "# Calculate baseline accuracy using the majority class. \n",
    "baseline_accuracy = df['label'].value_counts(normalize=True).max()\n",
    "baseline_accuracy"
   ]
  },
  {
   "cell_type": "markdown",
   "metadata": {
    "tags": [
     "ModelPrep"
    ]
   },
   "source": [
    "### Split data into train and test sets."
   ]
  },
  {
   "cell_type": "code",
   "execution_count": 10,
   "metadata": {
    "tags": [
     "ModelPrep"
    ]
   },
   "outputs": [],
   "source": [
    "# Set features matrix.\n",
    "X = df['lemmas']\n",
    "\n",
    "# Set target vector.\n",
    "y = df['label']"
   ]
  },
  {
   "cell_type": "code",
   "execution_count": 11,
   "metadata": {
    "tags": [
     "ModelPrep"
    ]
   },
   "outputs": [],
   "source": [
    "# Split data.\n",
    "X_train, X_test, y_train, y_test = train_test_split(X, y,\n",
    "                                                    random_state=42,\n",
    "                                                    shuffle=True,\n",
    "                                                    test_size=0.30,\n",
    "                                                    stratify=y)"
   ]
  },
  {
   "cell_type": "code",
   "execution_count": 12,
   "metadata": {
    "tags": [
     "ModelPrep"
    ]
   },
   "outputs": [
    {
     "name": "stdout",
     "output_type": "stream",
     "text": [
      "Length of X_train is  6990\n",
      "Length of X_test  is  2996\n"
     ]
    }
   ],
   "source": [
    "# Look at the split.\n",
    "print('Length of X_train is ', len(X_train))\n",
    "print('Length of X_test  is ', len(X_test))"
   ]
  },
  {
   "cell_type": "markdown",
   "metadata": {
    "tags": [
     "Modeling"
    ]
   },
   "source": [
    "## Modeling. "
   ]
  },
  {
   "cell_type": "code",
   "execution_count": 13,
   "metadata": {},
   "outputs": [],
   "source": [
    "def plot_confusion_matrix(cm, classes,\n",
    "                          normalize=False,\n",
    "                          title='Confusion matrix',\n",
    "                          cmap=plt.cm.Blues):\n",
    "    \"\"\"\n",
    "    This function prints and plots the confusion matrix.\n",
    "    Normalization can be applied by setting `normalize=True`.\n",
    "    The source for this function was found at scikit learn website.\n",
    "    \"\"\"\n",
    "    if normalize:\n",
    "        cm = cm.astype('float') / cm.sum(axis=1)[:, np.newaxis]\n",
    "        print(\"Normalized confusion matrix\")\n",
    "    else:\n",
    "        print('Confusion matrix, without normalization')\n",
    "\n",
    "    print(cm)\n",
    "\n",
    "    plt.imshow(cm, interpolation='nearest', cmap=cmap)\n",
    "    plt.title(title)\n",
    "    plt.colorbar()\n",
    "    tick_marks = np.arange(len(classes))\n",
    "    plt.xticks(tick_marks, classes, rotation=45)\n",
    "    plt.yticks(tick_marks, classes)\n",
    "\n",
    "    fmt = '.2f' if normalize else 'd'\n",
    "    thresh = cm.max() / 2.\n",
    "    for i, j in itertools.product(range(cm.shape[0]), range(cm.shape[1])):\n",
    "        plt.text(j, i, format(cm[i, j], fmt),\n",
    "                 horizontalalignment=\"center\",\n",
    "                 color=\"white\" if cm[i, j] > thresh else \"black\")\n",
    "\n",
    "    plt.ylabel('True label')\n",
    "    plt.xlabel('Predicted label')\n",
    "    plt.tight_layout()"
   ]
  },
  {
   "cell_type": "markdown",
   "metadata": {
    "tags": [
     "Modeling",
     "CountVectorizer",
     "SGDClassifier"
    ]
   },
   "source": [
    "### Model with SGDClassifier.\n",
    "#### Regularized linear modeling with stochastic gradient descent (SGD) learning.\n",
    " "
   ]
  },
  {
   "cell_type": "code",
   "execution_count": 14,
   "metadata": {},
   "outputs": [
    {
     "name": "stderr",
     "output_type": "stream",
     "text": [
      "/Users/homefolder/anaconda3/lib/python3.6/site-packages/sklearn/linear_model/stochastic_gradient.py:128: FutureWarning: max_iter and tol parameters have been added in <class 'sklearn.linear_model.stochastic_gradient.SGDClassifier'> in 0.19. If both are left unset, they default to max_iter=5 and tol=None. If tol is not None, max_iter defaults to max_iter=1000. From 0.21, default max_iter will be 1000, and default tol will be 1e-3.\n",
      "  \"and default tol will be 1e-3.\" % type(self), FutureWarning)\n"
     ]
    },
    {
     "name": "stdout",
     "output_type": "stream",
     "text": [
      "** SGDClassifier model dev WordNet ** \n",
      "Processing time   :  1.4829440116882324\n",
      "Score on train set:  0.9739628040057224\n",
      "Score on test set :  0.8778371161548731\n",
      "True Negatives    :  1312\n",
      "False Positives   :  184\n",
      "False Negatives   :  182\n",
      "True Positives    :  1318\n",
      "Confusion matrix, without normalization\n",
      "[[1312  184]\n",
      " [ 182 1318]]\n"
     ]
    },
    {
     "data": {
      "image/png": "[encoded data removed]",
      "text/plain": [
       "<Figure size 432x288 with 2 Axes>"
      ]
     },
     "metadata": {
      "needs_background": "light"
     },
     "output_type": "display_data"
    }
   ],
   "source": [
    "# Build pipeline for model.\n",
    "pipeline = Pipeline([\n",
    "    ('cvect', CountVectorizer()),\n",
    "    ('tfidf', TfidfTransformer()),\n",
    "    ('sgd',   SGDClassifier()),\n",
    "])\n",
    "\n",
    "t0 = time.time()\n",
    "\n",
    "model = pipeline.fit(X_train, y_train)\n",
    "model.score(X_test, y_test)\n",
    "print(f'** SGDClassifier model {env} WordNet ** ')\n",
    "print('Processing time   : ', (time.time() - t0))\n",
    "print('Score on train set: ', model.score(X_train, y_train))\n",
    "print('Score on test set : ', model.score(X_test, y_test))\n",
    "\n",
    "\n",
    "# Print scores.\n",
    "y_pred = model.predict(X_test)\n",
    "\n",
    "# Calculate the confusion matrix.\n",
    "class_names = ['neg review', 'pos review']\n",
    "cnf_matrix  = confusion_matrix(y_test, y_pred)\n",
    "np.set_printoptions(precision=2)\n",
    "\n",
    "tn, fp, fn, tp = confusion_matrix(y_test, y_pred).ravel()\n",
    "print(\"True Negatives    :  %s\" % tn)\n",
    "print(\"False Positives   :  %s\" % fp)\n",
    "print(\"False Negatives   :  %s\" % fn)\n",
    "print(\"True Positives    :  %s\" % tp)\n",
    "\n",
    "# Plot non-normalized confusion matrix.\n",
    "plt.figure()\n",
    "plot_confusion_matrix(cnf_matrix, classes=class_names,\n",
    "                      title='Confusion matrix')\n",
    "\n",
    "\n",
    "plt.show()\\"
   ]
  },
  {
   "cell_type": "markdown",
   "metadata": {
    "tags": [
     "Modeling",
     "SGDClassifier",
     "MultinomialNB"
    ]
   },
   "source": [
    "### Model with Multinomial Naive Bayes.\n",
    "#### Naive Bayes classifier for multinomial models.\n",
    " "
   ]
  },
  {
   "cell_type": "code",
   "execution_count": 15,
   "metadata": {
    "tags": [
     "Modeling",
     "MultinomialNB"
    ]
   },
   "outputs": [
    {
     "name": "stdout",
     "output_type": "stream",
     "text": [
      "** MultinomialNB model dev WordNet ** \n",
      "Processing time   :  1.454658031463623\n",
      "Score on train set:  0.921173104434907\n",
      "Score on test set :  0.8481308411214953\n",
      "True Negatives    :  1341\n",
      "False Positives   :  155\n",
      "False Negatives   :  300\n",
      "True Positives    :  1200\n",
      "Confusion matrix, without normalization\n",
      "[[1341  155]\n",
      " [ 300 1200]]\n"
     ]
    },
    {
     "data": {
      "image/png": "[encoded data removed]",
      "text/plain": [
       "<Figure size 432x288 with 2 Axes>"
      ]
     },
     "metadata": {
      "needs_background": "light"
     },
     "output_type": "display_data"
    }
   ],
   "source": [
    "# Build pipeline for model.\n",
    "pipeline = Pipeline([\n",
    "    ('cvect', CountVectorizer()),\n",
    "    ('tfidf', TfidfTransformer()),\n",
    "    ('nb',    MultinomialNB()),\n",
    "])\n",
    "\n",
    "t0 = time.time()\n",
    "\n",
    "model = pipeline.fit(X_train, y_train)\n",
    "model.score(X_test, y_test)\n",
    "print(f'** MultinomialNB model {env} WordNet ** ')\n",
    "print('Processing time   : ', (time.time() - t0))\n",
    "print('Score on train set: ', model.score(X_train, y_train))\n",
    "print('Score on test set : ', model.score(X_test, y_test))\n",
    "\n",
    "y_pred = model.predict(X_test)\n",
    "\n",
    "# Calculate the confusion matrix.\n",
    "class_names = ['neg review', 'pos review']\n",
    "cnf_matrix  = confusion_matrix(y_test, y_pred)\n",
    "np.set_printoptions(precision=2)\n",
    "\n",
    "tn, fp, fn, tp = confusion_matrix(y_test, y_pred).ravel()\n",
    "print(\"True Negatives    :  %s\" % tn)\n",
    "print(\"False Positives   :  %s\" % fp)\n",
    "print(\"False Negatives   :  %s\" % fn)\n",
    "print(\"True Positives    :  %s\" % tp)\n",
    "\n",
    "# Plot non-normalized confusion matrix.\n",
    "plt.figure()\n",
    "plot_confusion_matrix(cnf_matrix, classes=class_names,\n",
    "                      title='Confusion matrix')\n",
    "\n",
    "\n",
    "plt.show()\\"
   ]
  },
  {
   "cell_type": "markdown",
   "metadata": {
    "tags": [
     "Modeling",
     "SentimentIA"
    ]
   },
   "source": [
    "### Model with SentimentIntensityAnalysis with Gaussian Naive Bayes\n",
    "\n",
    "NLTK Sentiment Analysis.  "
   ]
  },
  {
   "cell_type": "code",
   "execution_count": 16,
   "metadata": {
    "tags": [
     "Modeling",
     "SentimentIA"
    ]
   },
   "outputs": [
    {
     "data": {
      "text/html": [
       "<div>\n",
       "<style scoped>\n",
       "    .dataframe tbody tr th:only-of-type {\n",
       "        vertical-align: middle;\n",
       "    }\n",
       "\n",
       "    .dataframe tbody tr th {\n",
       "        vertical-align: top;\n",
       "    }\n",
       "\n",
       "    .dataframe thead th {\n",
       "        text-align: right;\n",
       "    }\n",
       "</style>\n",
       "<table border=\"1\" class=\"dataframe\">\n",
       "  <thead>\n",
       "    <tr style=\"text-align: right;\">\n",
       "      <th></th>\n",
       "      <th>compound</th>\n",
       "      <th>neg</th>\n",
       "      <th>neu</th>\n",
       "      <th>pos</th>\n",
       "    </tr>\n",
       "  </thead>\n",
       "  <tbody>\n",
       "    <tr>\n",
       "      <th>0</th>\n",
       "      <td>-0.9296</td>\n",
       "      <td>0.237</td>\n",
       "      <td>0.675</td>\n",
       "      <td>0.088</td>\n",
       "    </tr>\n",
       "    <tr>\n",
       "      <th>1</th>\n",
       "      <td>-0.8983</td>\n",
       "      <td>0.139</td>\n",
       "      <td>0.734</td>\n",
       "      <td>0.127</td>\n",
       "    </tr>\n",
       "    <tr>\n",
       "      <th>2</th>\n",
       "      <td>0.8337</td>\n",
       "      <td>0.089</td>\n",
       "      <td>0.737</td>\n",
       "      <td>0.174</td>\n",
       "    </tr>\n",
       "    <tr>\n",
       "      <th>3</th>\n",
       "      <td>0.8745</td>\n",
       "      <td>0.115</td>\n",
       "      <td>0.737</td>\n",
       "      <td>0.149</td>\n",
       "    </tr>\n",
       "    <tr>\n",
       "      <th>4</th>\n",
       "      <td>0.9495</td>\n",
       "      <td>0.050</td>\n",
       "      <td>0.774</td>\n",
       "      <td>0.175</td>\n",
       "    </tr>\n",
       "  </tbody>\n",
       "</table>\n",
       "</div>"
      ],
      "text/plain": [
       "   compound    neg    neu    pos\n",
       "0   -0.9296  0.237  0.675  0.088\n",
       "1   -0.8983  0.139  0.734  0.127\n",
       "2    0.8337  0.089  0.737  0.174\n",
       "3    0.8745  0.115  0.737  0.149\n",
       "4    0.9495  0.050  0.774  0.175"
      ]
     },
     "execution_count": 16,
     "metadata": {},
     "output_type": "execute_result"
    }
   ],
   "source": [
    "# Instantiate model.\n",
    "sia = SentimentIntensityAnalyzer()\n",
    "\n",
    "# Initialize a list.\n",
    "sia_data = []\n",
    "\n",
    "# Calculate sentiment analysis on X_train.\n",
    "for review in X_train.tolist():\n",
    "    sia_data.append(sia.polarity_scores(review)) \n",
    "    \n",
    "# Load sentiment analysis results to a dataframe (X_train).    \n",
    "X_train_sia_df = pd.DataFrame(sia_data)\n",
    "\n",
    "# # Take a look.\n",
    "X_train_sia_df.head()"
   ]
  },
  {
   "cell_type": "code",
   "execution_count": 17,
   "metadata": {
    "tags": [
     "Modeling",
     "SentimentIA"
    ]
   },
   "outputs": [
    {
     "data": {
      "text/html": [
       "<div>\n",
       "<style scoped>\n",
       "    .dataframe tbody tr th:only-of-type {\n",
       "        vertical-align: middle;\n",
       "    }\n",
       "\n",
       "    .dataframe tbody tr th {\n",
       "        vertical-align: top;\n",
       "    }\n",
       "\n",
       "    .dataframe thead th {\n",
       "        text-align: right;\n",
       "    }\n",
       "</style>\n",
       "<table border=\"1\" class=\"dataframe\">\n",
       "  <thead>\n",
       "    <tr style=\"text-align: right;\">\n",
       "      <th></th>\n",
       "      <th>compound</th>\n",
       "      <th>neg</th>\n",
       "      <th>neu</th>\n",
       "      <th>pos</th>\n",
       "    </tr>\n",
       "  </thead>\n",
       "  <tbody>\n",
       "    <tr>\n",
       "      <th>0</th>\n",
       "      <td>0.9723</td>\n",
       "      <td>0.094</td>\n",
       "      <td>0.776</td>\n",
       "      <td>0.130</td>\n",
       "    </tr>\n",
       "    <tr>\n",
       "      <th>1</th>\n",
       "      <td>0.9331</td>\n",
       "      <td>0.115</td>\n",
       "      <td>0.697</td>\n",
       "      <td>0.188</td>\n",
       "    </tr>\n",
       "    <tr>\n",
       "      <th>2</th>\n",
       "      <td>0.2953</td>\n",
       "      <td>0.125</td>\n",
       "      <td>0.748</td>\n",
       "      <td>0.127</td>\n",
       "    </tr>\n",
       "    <tr>\n",
       "      <th>3</th>\n",
       "      <td>-0.6960</td>\n",
       "      <td>0.115</td>\n",
       "      <td>0.794</td>\n",
       "      <td>0.092</td>\n",
       "    </tr>\n",
       "    <tr>\n",
       "      <th>4</th>\n",
       "      <td>0.9885</td>\n",
       "      <td>0.080</td>\n",
       "      <td>0.713</td>\n",
       "      <td>0.207</td>\n",
       "    </tr>\n",
       "  </tbody>\n",
       "</table>\n",
       "</div>"
      ],
      "text/plain": [
       "   compound    neg    neu    pos\n",
       "0    0.9723  0.094  0.776  0.130\n",
       "1    0.9331  0.115  0.697  0.188\n",
       "2    0.2953  0.125  0.748  0.127\n",
       "3   -0.6960  0.115  0.794  0.092\n",
       "4    0.9885  0.080  0.713  0.207"
      ]
     },
     "execution_count": 17,
     "metadata": {},
     "output_type": "execute_result"
    }
   ],
   "source": [
    "# Initialize a list.\n",
    "sia_data = []\n",
    "\n",
    "# Calculate sentiment analysis on X_test.\n",
    "for review in X_test.tolist():\n",
    "    sia_data.append(sia.polarity_scores(review)) \n",
    "    \n",
    "# Load sentiment analysis results to a dataframe (X_train).    \n",
    "X_test_sia_df = pd.DataFrame(sia_data)\n",
    "\n",
    "# # Take a look.\n",
    "X_test_sia_df.head()"
   ]
  },
  {
   "cell_type": "code",
   "execution_count": 18,
   "metadata": {
    "scrolled": true,
    "tags": [
     "Modeling",
     "SentimentIA"
    ]
   },
   "outputs": [
    {
     "name": "stdout",
     "output_type": "stream",
     "text": [
      "** SIA GaussianNB model dev WordNet ** \n",
      "Processing time   :  0.003634929656982422\n",
      "Score on train set:  0.7032904148783977\n",
      "Score on test set :  0.7049399198931909\n",
      "True Negatives    :  890\n",
      "False Positives   :  606\n",
      "False Negatives   :  278\n",
      "True Positives    :  1222\n",
      "Confusion matrix, without normalization\n",
      "[[ 890  606]\n",
      " [ 278 1222]]\n"
     ]
    },
    {
     "data": {
      "image/png": "[encoded data removed]",
      "text/plain": [
       "<Figure size 432x288 with 2 Axes>"
      ]
     },
     "metadata": {
      "needs_background": "light"
     },
     "output_type": "display_data"
    }
   ],
   "source": [
    "# Model based on sentiment analysis.\n",
    "\n",
    "# Instantiate model.\n",
    "model = GaussianNB()\n",
    "\n",
    "t0 = time.time()\n",
    "\n",
    "# Fit on training data.\n",
    "model.fit(X_train_sia_df, y_train)\n",
    "\n",
    "# Print scores.\n",
    "print(f'** SIA GaussianNB model {env} WordNet ** ')\n",
    "print('Processing time   : ', (time.time() - t0))\n",
    "print('Score on train set: ', model.score(X_train_sia_df, y_train))\n",
    "print('Score on test set : ', model.score(X_test_sia_df, y_test))\n",
    "\n",
    "y_pred = model.predict(X_test_sia_df)\n",
    "\n",
    "# Calculate the confusion matrix.\n",
    "class_names = ['neg review', 'pos review']\n",
    "cnf_matrix  = confusion_matrix(y_test, y_pred)\n",
    "np.set_printoptions(precision=2)\n",
    "\n",
    "tn, fp, fn, tp = confusion_matrix(y_test, y_pred).ravel()\n",
    "print(\"True Negatives    :  %s\" % tn)\n",
    "print(\"False Positives   :  %s\" % fp)\n",
    "print(\"False Negatives   :  %s\" % fn)\n",
    "print(\"True Positives    :  %s\" % tp)\n",
    "\n",
    "# Plot non-normalized confusion matrix.\n",
    "plt.figure()\n",
    "plot_confusion_matrix(cnf_matrix, classes=class_names,\n",
    "                      title='Confusion matrix')\n",
    "\n",
    "\n",
    "plt.show()\\"
   ]
  },
  {
   "cell_type": "code",
   "execution_count": null,
   "metadata": {},
   "outputs": [],
   "source": []
  }
 ],
 "metadata": {
  "anaconda-cloud": {},
  "celltoolbar": "Tags",
  "kernelspec": {
   "display_name": "Python 3",
   "language": "python",
   "name": "python3"
  },
  "language_info": {
   "codemirror_mode": {
    "name": "ipython",
    "version": 3
   },
   "file_extension": ".py",
   "mimetype": "text/x-python",
   "name": "python",
   "nbconvert_exporter": "python",
   "pygments_lexer": "ipython3",
   "version": "3.6.7"
  }
 },
 "nbformat": 4,
 "nbformat_minor": 1
}
