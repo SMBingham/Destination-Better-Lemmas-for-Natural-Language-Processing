{
 "cells": [
  {
   "cell_type": "markdown",
   "metadata": {
    "tags": [
     "Setup"
    ]
   },
   "source": [
    "### Set up environment."
   ]
  },
  {
   "cell_type": "code",
   "execution_count": 1,
   "metadata": {
    "tags": [
     "Setup"
    ]
   },
   "outputs": [],
   "source": [
    "# Import libraries and modules.\n",
    "import numpy  as np\n",
    "import pandas as pd\n",
    "\n",
    "import random\n",
    "import time\n",
    "\n",
    "# Import Natural Language Toolkit modules.\n",
    "from nltk.stem     import WordNetLemmatizer\n",
    "\n",
    "# Increase number of columns that can be viewed in notebook.\n",
    "pd.set_option('display.max_columns', 500)\n",
    "\n",
    "# Set random seed for reproducibility.\n",
    "random.seed(42)"
   ]
  },
  {
   "cell_type": "code",
   "execution_count": 2,
   "metadata": {
    "tags": [
     "Setup"
    ]
   },
   "outputs": [
    {
     "name": "stdout",
     "output_type": "stream",
     "text": [
      "** The tokenized  data will be loaded from \"./data/tokens_s100.csv\". **\n",
      "\n",
      "** The lemmatized data will be saved in    \"./data/lemmas_prod_s100.csv\". **\n",
      "\n",
      "** The elapsed time data will be saved in  \"./data/lemmas_prod_s100_time.csv\". **\n"
     ]
    }
   ],
   "source": [
    "# Specify the number of reviews of each type (pos and neg) being sampled.\n",
    "n = 50\n",
    "\n",
    "# Specify whether the lemmas were created by the prod version of WordNet (True or False).\n",
    "prod = True\n",
    "if prod:\n",
    "    env = 'prod'\n",
    "else:\n",
    "    env = 'dev'\n",
    "\n",
    "# Set file location for input file.\n",
    "tokens_csv = (f'./data/tokens_s{n*2}.csv')\n",
    "\n",
    "# Set file location for output files.\n",
    "lemmas_csv = (f'./data/lemmas_{env}_s{n*2}.csv')\n",
    "time_csv = (f'./data/lemmas_{env}_s{n*2}_time.csv')\n",
    "\n",
    "# Print messages.\n",
    "print(f'** The tokenized  data will be loaded from \"{tokens_csv}\". **')\n",
    "print()\n",
    "print(f'** The lemmatized data will be saved in    \"{lemmas_csv}\". **')\n",
    "print()\n",
    "print(f'** The elapsed time data will be saved in  \"{time_csv}\". **')"
   ]
  },
  {
   "cell_type": "markdown",
   "metadata": {
    "tags": [
     "Setup"
    ]
   },
   "source": [
    "### Load data."
   ]
  },
  {
   "cell_type": "code",
   "execution_count": 3,
   "metadata": {
    "tags": [
     "Setup"
    ]
   },
   "outputs": [
    {
     "data": {
      "text/html": [
       "<div>\n",
       "<style scoped>\n",
       "    .dataframe tbody tr th:only-of-type {\n",
       "        vertical-align: middle;\n",
       "    }\n",
       "\n",
       "    .dataframe tbody tr th {\n",
       "        vertical-align: top;\n",
       "    }\n",
       "\n",
       "    .dataframe thead th {\n",
       "        text-align: right;\n",
       "    }\n",
       "</style>\n",
       "<table border=\"1\" class=\"dataframe\">\n",
       "  <thead>\n",
       "    <tr style=\"text-align: right;\">\n",
       "      <th></th>\n",
       "      <th>label</th>\n",
       "      <th>tokens</th>\n",
       "    </tr>\n",
       "  </thead>\n",
       "  <tbody>\n",
       "    <tr>\n",
       "      <th>0</th>\n",
       "      <td>1</td>\n",
       "      <td>i was very impressed with this small independe...</td>\n",
       "    </tr>\n",
       "    <tr>\n",
       "      <th>1</th>\n",
       "      <td>1</td>\n",
       "      <td>shot in the heart is wonderful it brilliantly ...</td>\n",
       "    </tr>\n",
       "    <tr>\n",
       "      <th>2</th>\n",
       "      <td>1</td>\n",
       "      <td>i have not seen this in over yrs but i still r...</td>\n",
       "    </tr>\n",
       "    <tr>\n",
       "      <th>3</th>\n",
       "      <td>1</td>\n",
       "      <td>police story brought hong kong movies to moder...</td>\n",
       "    </tr>\n",
       "    <tr>\n",
       "      <th>4</th>\n",
       "      <td>1</td>\n",
       "      <td>the word classic is thrown around too loosely ...</td>\n",
       "    </tr>\n",
       "  </tbody>\n",
       "</table>\n",
       "</div>"
      ],
      "text/plain": [
       "   label                                             tokens\n",
       "0      1  i was very impressed with this small independe...\n",
       "1      1  shot in the heart is wonderful it brilliantly ...\n",
       "2      1  i have not seen this in over yrs but i still r...\n",
       "3      1  police story brought hong kong movies to moder...\n",
       "4      1  the word classic is thrown around too loosely ..."
      ]
     },
     "execution_count": 3,
     "metadata": {},
     "output_type": "execute_result"
    }
   ],
   "source": [
    "# Load the data.\n",
    "df = pd.read_csv(tokens_csv)\n",
    "\n",
    "# Take a look.\n",
    "df.head()"
   ]
  },
  {
   "cell_type": "code",
   "execution_count": 4,
   "metadata": {
    "tags": [
     "Setup"
    ]
   },
   "outputs": [
    {
     "name": "stdout",
     "output_type": "stream",
     "text": [
      "<class 'pandas.core.frame.DataFrame'>\n",
      "RangeIndex: 100 entries, 0 to 99\n",
      "Data columns (total 2 columns):\n",
      "label     100 non-null int64\n",
      "tokens    100 non-null object\n",
      "dtypes: int64(1), object(1)\n",
      "memory usage: 1.6+ KB\n"
     ]
    }
   ],
   "source": [
    "# Take a look at the data.\n",
    "df.info()"
   ]
  },
  {
   "cell_type": "markdown",
   "metadata": {
    "tags": [
     "NLPreprocessing"
    ]
   },
   "source": [
    "## Lemmatization \n",
    "\n",
    "**Process:** \n",
    "\n",
    "- Lemmatize the tokens:\n",
    "    - Use the WordNet production version to obtain lemmas."
   ]
  },
  {
   "cell_type": "code",
   "execution_count": 5,
   "metadata": {},
   "outputs": [
    {
     "data": {
      "text/html": [
       "<div>\n",
       "<style scoped>\n",
       "    .dataframe tbody tr th:only-of-type {\n",
       "        vertical-align: middle;\n",
       "    }\n",
       "\n",
       "    .dataframe tbody tr th {\n",
       "        vertical-align: top;\n",
       "    }\n",
       "\n",
       "    .dataframe thead th {\n",
       "        text-align: right;\n",
       "    }\n",
       "</style>\n",
       "<table border=\"1\" class=\"dataframe\">\n",
       "  <thead>\n",
       "    <tr style=\"text-align: right;\">\n",
       "      <th></th>\n",
       "      <th>label</th>\n",
       "      <th>tokens</th>\n",
       "      <th>lemmas</th>\n",
       "    </tr>\n",
       "  </thead>\n",
       "  <tbody>\n",
       "    <tr>\n",
       "      <th>0</th>\n",
       "      <td>1</td>\n",
       "      <td>i was very impressed with this small independe...</td>\n",
       "      <td>i wa very impressed with this small independen...</td>\n",
       "    </tr>\n",
       "    <tr>\n",
       "      <th>1</th>\n",
       "      <td>1</td>\n",
       "      <td>shot in the heart is wonderful it brilliantly ...</td>\n",
       "      <td>shot in the heart is wonderful it brilliantly ...</td>\n",
       "    </tr>\n",
       "    <tr>\n",
       "      <th>2</th>\n",
       "      <td>1</td>\n",
       "      <td>i have not seen this in over yrs but i still r...</td>\n",
       "      <td>i have not seen this in over yr but i still re...</td>\n",
       "    </tr>\n",
       "    <tr>\n",
       "      <th>3</th>\n",
       "      <td>1</td>\n",
       "      <td>police story brought hong kong movies to moder...</td>\n",
       "      <td>police story brought hong kong movie to modern...</td>\n",
       "    </tr>\n",
       "    <tr>\n",
       "      <th>4</th>\n",
       "      <td>1</td>\n",
       "      <td>the word classic is thrown around too loosely ...</td>\n",
       "      <td>the word classic is thrown around too loosely ...</td>\n",
       "    </tr>\n",
       "  </tbody>\n",
       "</table>\n",
       "</div>"
      ],
      "text/plain": [
       "   label                                             tokens  \\\n",
       "0      1  i was very impressed with this small independe...   \n",
       "1      1  shot in the heart is wonderful it brilliantly ...   \n",
       "2      1  i have not seen this in over yrs but i still r...   \n",
       "3      1  police story brought hong kong movies to moder...   \n",
       "4      1  the word classic is thrown around too loosely ...   \n",
       "\n",
       "                                              lemmas  \n",
       "0  i wa very impressed with this small independen...  \n",
       "1  shot in the heart is wonderful it brilliantly ...  \n",
       "2  i have not seen this in over yr but i still re...  \n",
       "3  police story brought hong kong movie to modern...  \n",
       "4  the word classic is thrown around too loosely ...  "
      ]
     },
     "execution_count": 5,
     "metadata": {},
     "output_type": "execute_result"
    }
   ],
   "source": [
    "# Instantiate Lemmatizer.\n",
    "lemmatizer = WordNetLemmatizer()\n",
    "\n",
    "# Initialize list for elapsed time data.\n",
    "time_data = []\n",
    "\n",
    "# Loop through the dataframe.\n",
    "for i in range(df.shape[0]):\n",
    "    \n",
    "    # Start the clock.\n",
    "    t0 = time.time()\n",
    "   \n",
    "    # Lemmatize words.\n",
    "    lemmas = [lemmatizer.lemmatize(w) for w in df.iloc[i]['tokens'].split()]\n",
    "    \n",
    "    # Stop the clock.\n",
    "    t_end = time.time()\n",
    "    \n",
    "    # Save results.\n",
    "    time_data.append([len(lemmas), (t_end - t0)]) \n",
    "    \n",
    "    # Join the lemmas back into a single string and save it.\n",
    "    df.loc[i,'lemmas'] = \" \".join(lemmas) \n",
    "\n",
    "# Take a look.\n",
    "df.head()"
   ]
  },
  {
   "cell_type": "code",
   "execution_count": 6,
   "metadata": {
    "tags": [
     "NLPreprocessing"
    ]
   },
   "outputs": [
    {
     "data": {
      "text/html": [
       "<div>\n",
       "<style scoped>\n",
       "    .dataframe tbody tr th:only-of-type {\n",
       "        vertical-align: middle;\n",
       "    }\n",
       "\n",
       "    .dataframe tbody tr th {\n",
       "        vertical-align: top;\n",
       "    }\n",
       "\n",
       "    .dataframe thead th {\n",
       "        text-align: right;\n",
       "    }\n",
       "</style>\n",
       "<table border=\"1\" class=\"dataframe\">\n",
       "  <thead>\n",
       "    <tr style=\"text-align: right;\">\n",
       "      <th></th>\n",
       "      <th>label</th>\n",
       "      <th>lemmas</th>\n",
       "    </tr>\n",
       "  </thead>\n",
       "  <tbody>\n",
       "    <tr>\n",
       "      <th>0</th>\n",
       "      <td>1</td>\n",
       "      <td>i wa very impressed with this small independen...</td>\n",
       "    </tr>\n",
       "    <tr>\n",
       "      <th>1</th>\n",
       "      <td>1</td>\n",
       "      <td>shot in the heart is wonderful it brilliantly ...</td>\n",
       "    </tr>\n",
       "    <tr>\n",
       "      <th>2</th>\n",
       "      <td>1</td>\n",
       "      <td>i have not seen this in over yr but i still re...</td>\n",
       "    </tr>\n",
       "    <tr>\n",
       "      <th>3</th>\n",
       "      <td>1</td>\n",
       "      <td>police story brought hong kong movie to modern...</td>\n",
       "    </tr>\n",
       "    <tr>\n",
       "      <th>4</th>\n",
       "      <td>1</td>\n",
       "      <td>the word classic is thrown around too loosely ...</td>\n",
       "    </tr>\n",
       "  </tbody>\n",
       "</table>\n",
       "</div>"
      ],
      "text/plain": [
       "   label                                             lemmas\n",
       "0      1  i wa very impressed with this small independen...\n",
       "1      1  shot in the heart is wonderful it brilliantly ...\n",
       "2      1  i have not seen this in over yr but i still re...\n",
       "3      1  police story brought hong kong movie to modern...\n",
       "4      1  the word classic is thrown around too loosely ..."
      ]
     },
     "execution_count": 6,
     "metadata": {},
     "output_type": "execute_result"
    }
   ],
   "source": [
    "# Keep only needed columns.\n",
    "df = df[['label', 'lemmas']]\n",
    "\n",
    "# Verify update.\n",
    "df.head()"
   ]
  },
  {
   "cell_type": "code",
   "execution_count": 9,
   "metadata": {},
   "outputs": [
    {
     "data": {
      "text/html": [
       "<div>\n",
       "<style scoped>\n",
       "    .dataframe tbody tr th:only-of-type {\n",
       "        vertical-align: middle;\n",
       "    }\n",
       "\n",
       "    .dataframe tbody tr th {\n",
       "        vertical-align: top;\n",
       "    }\n",
       "\n",
       "    .dataframe thead th {\n",
       "        text-align: right;\n",
       "    }\n",
       "</style>\n",
       "<table border=\"1\" class=\"dataframe\">\n",
       "  <thead>\n",
       "    <tr style=\"text-align: right;\">\n",
       "      <th></th>\n",
       "      <th>lemma count</th>\n",
       "      <th>elapsed_time</th>\n",
       "    </tr>\n",
       "  </thead>\n",
       "  <tbody>\n",
       "    <tr>\n",
       "      <th>0</th>\n",
       "      <td>123</td>\n",
       "      <td>1.665904</td>\n",
       "    </tr>\n",
       "    <tr>\n",
       "      <th>1</th>\n",
       "      <td>50</td>\n",
       "      <td>0.000375</td>\n",
       "    </tr>\n",
       "    <tr>\n",
       "      <th>2</th>\n",
       "      <td>146</td>\n",
       "      <td>0.000672</td>\n",
       "    </tr>\n",
       "    <tr>\n",
       "      <th>3</th>\n",
       "      <td>142</td>\n",
       "      <td>0.000728</td>\n",
       "    </tr>\n",
       "    <tr>\n",
       "      <th>4</th>\n",
       "      <td>96</td>\n",
       "      <td>0.000505</td>\n",
       "    </tr>\n",
       "  </tbody>\n",
       "</table>\n",
       "</div>"
      ],
      "text/plain": [
       "   lemma count  elapsed_time\n",
       "0          123      1.665904\n",
       "1           50      0.000375\n",
       "2          146      0.000672\n",
       "3          142      0.000728\n",
       "4           96      0.000505"
      ]
     },
     "execution_count": 9,
     "metadata": {},
     "output_type": "execute_result"
    }
   ],
   "source": [
    "# Load the time data.\n",
    "time_df = pd.DataFrame(time_data, columns=['lemma count', 'elapsed_time'])\n",
    "\n",
    "# Take a look.\n",
    "time_df.head()"
   ]
  },
  {
   "cell_type": "markdown",
   "metadata": {
    "tags": [
     "Wrapup"
    ]
   },
   "source": [
    "### Save data."
   ]
  },
  {
   "cell_type": "code",
   "execution_count": 8,
   "metadata": {
    "tags": [
     "Wrapup"
    ]
   },
   "outputs": [],
   "source": [
    "# Save the NLP data.\n",
    "df.to_csv(lemmas_csv, encoding='utf-8', index=False)\n",
    "\n",
    "# Save the elapsed time data.\n",
    "time_df.to_csv(time_csv, encoding='utf-8', index=False)"
   ]
  },
  {
   "cell_type": "code",
   "execution_count": null,
   "metadata": {},
   "outputs": [],
   "source": []
  }
 ],
 "metadata": {
  "anaconda-cloud": {},
  "celltoolbar": "Tags",
  "kernelspec": {
   "display_name": "Python 3",
   "language": "python",
   "name": "python3"
  },
  "language_info": {
   "codemirror_mode": {
    "name": "ipython",
    "version": 3
   },
   "file_extension": ".py",
   "mimetype": "text/x-python",
   "name": "python",
   "nbconvert_exporter": "python",
   "pygments_lexer": "ipython3",
   "version": "3.6.8"
  }
 },
 "nbformat": 4,
 "nbformat_minor": 1
}
