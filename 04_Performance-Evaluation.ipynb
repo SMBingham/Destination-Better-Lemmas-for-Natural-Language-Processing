{
 "cells": [
  {
   "cell_type": "markdown",
   "metadata": {},
   "source": [
    "# Capstone Project: Improving NLTK's Lemmatization Process\n",
    "\n",
    "Submitted by Shannon Bingham\n",
    "February 2019\n",
    "\n",
    "\n",
    "## Executive Summary\n",
    "The Natural Language Toolkit (NLTK) is a widely used open source solution for computer processing and analysis of human language.  The toolkit includes many useful utilities including an interface to the WordNet lexical reference database.  When I used the toolkit's stemming and lemmatizing programs for a Natural Language Processing (NLP) classification project at General Assembly, I grew very curious about first, the data that was being created, and second, the logic going on under the hood.  My questions led me to wonder about how I could improve the quality of my input data, especially given that the sheer number of features in an NLP project makes it quite challenging to understand what the data looks like.\n",
    "\n",
    "For my capstone project, I decided to improve the NLTK interface to WordNet.  My work on this project led to many interesting insights about electronic dictionaries as well as about language processing in general.  Over the course of  project, I became more deeply interested in NLP, an area in data science that is growing rapidly.  The changes that I made to the toolkit built a foundation that provides greater control over the lemmatization process and, thus, more opportunity to improve data.  The changes will be available for implementation anywhere.\n",
    "\n",
    "## Notebook Description\n",
    "This notebook includes all the code I used to visualize the time data collected during testing.  Please note the Setup cell that drives the variables substitutions."
   ]
  },
  {
   "cell_type": "markdown",
   "metadata": {
    "tags": [
     "Setup"
    ]
   },
   "source": [
    "## Set up environment."
   ]
  },
  {
   "cell_type": "code",
   "execution_count": 1,
   "metadata": {
    "tags": [
     "Setup"
    ]
   },
   "outputs": [],
   "source": [
    "# Import libraries.\n",
    "import numpy  as np\n",
    "import pandas as pd\n",
    "import matplotlib.pyplot as plt\n",
    "import random\n",
    "\n",
    "# Increase number of columns that can be viewed in notebook.\n",
    "pd.set_option('display.max_columns', 500)\n",
    "\n",
    "# Set random seed for reproducibility.\n",
    "random.seed(42)"
   ]
  },
  {
   "cell_type": "code",
   "execution_count": 2,
   "metadata": {
    "tags": [
     "Setup"
    ]
   },
   "outputs": [
    {
     "name": "stdout",
     "output_type": "stream",
     "text": [
      "** The dev  time data will be loaded from \"./data/lemmas_dev_s100_time.csv\". **\n",
      "\n",
      "** The prod time data will be loaded from \"./data/lemmas_dev_s100_time.csv\". **\n"
     ]
    }
   ],
   "source": [
    "# Specify the number of reviews of each type (pos and neg) being sampled.\n",
    "n = 50\n",
    "\n",
    "# Set file location for input files\n",
    "dev_csv    = (f'./data/lemmas_dev_s{n*2}_time.csv')\n",
    "prod_csv   = (f'./data/lemmas_prod_s{n*2}_time.csv')\n",
    "# Locate the file.\n",
    "\n",
    "# Print messages.\n",
    "print(f'** The dev  time data will be loaded from \"{dev_csv}\". **')\n",
    "print()\n",
    "print(f'** The prod time data will be loaded from \"{dev_csv}\". **')"
   ]
  },
  {
   "cell_type": "code",
   "execution_count": 3,
   "metadata": {
    "tags": [
     "Setup"
    ]
   },
   "outputs": [
    {
     "name": "stdout",
     "output_type": "stream",
     "text": [
      "(100, 2)\n",
      "(100, 2)\n"
     ]
    }
   ],
   "source": [
    "# Load the data.\n",
    "dev = pd.read_csv(dev_csv)\n",
    "prod = pd.read_csv(prod_csv)\n",
    "\n",
    "# Take a look. \n",
    "print(dev.shape)\n",
    "print(prod.shape)"
   ]
  },
  {
   "cell_type": "markdown",
   "metadata": {
    "tags": [
     "Evaluation"
    ]
   },
   "source": [
    "# Evaluate time data."
   ]
  },
  {
   "cell_type": "code",
   "execution_count": 4,
   "metadata": {
    "scrolled": true,
    "tags": [
     "Evaluation"
    ]
   },
   "outputs": [
    {
     "data": {
      "text/html": [
       "<div>\n",
       "<style scoped>\n",
       "    .dataframe tbody tr th:only-of-type {\n",
       "        vertical-align: middle;\n",
       "    }\n",
       "\n",
       "    .dataframe tbody tr th {\n",
       "        vertical-align: top;\n",
       "    }\n",
       "\n",
       "    .dataframe thead th {\n",
       "        text-align: right;\n",
       "    }\n",
       "</style>\n",
       "<table border=\"1\" class=\"dataframe\">\n",
       "  <thead>\n",
       "    <tr style=\"text-align: right;\">\n",
       "      <th></th>\n",
       "      <th>lemma count</th>\n",
       "      <th>elapsed_time</th>\n",
       "    </tr>\n",
       "  </thead>\n",
       "  <tbody>\n",
       "    <tr>\n",
       "      <th>0</th>\n",
       "      <td>0.123</td>\n",
       "      <td>1.551483</td>\n",
       "    </tr>\n",
       "    <tr>\n",
       "      <th>1</th>\n",
       "      <td>0.173</td>\n",
       "      <td>1.552179</td>\n",
       "    </tr>\n",
       "    <tr>\n",
       "      <th>2</th>\n",
       "      <td>0.319</td>\n",
       "      <td>1.552951</td>\n",
       "    </tr>\n",
       "    <tr>\n",
       "      <th>3</th>\n",
       "      <td>0.461</td>\n",
       "      <td>1.553856</td>\n",
       "    </tr>\n",
       "    <tr>\n",
       "      <th>4</th>\n",
       "      <td>0.557</td>\n",
       "      <td>1.554659</td>\n",
       "    </tr>\n",
       "  </tbody>\n",
       "</table>\n",
       "</div>"
      ],
      "text/plain": [
       "   lemma count  elapsed_time\n",
       "0        0.123      1.551483\n",
       "1        0.173      1.552179\n",
       "2        0.319      1.552951\n",
       "3        0.461      1.553856\n",
       "4        0.557      1.554659"
      ]
     },
     "execution_count": 4,
     "metadata": {},
     "output_type": "execute_result"
    }
   ],
   "source": [
    "# Calculate the cumulative sums for the lemmas and the elapsed time fields.\n",
    "\n",
    "# Rewrite the lemma count in thousands so that cumsum can do the calculation.\n",
    "dev['lemma count']  =  dev['lemma count'] / 1000\n",
    "prod['lemma count'] =  prod['lemma count'] / 1000\n",
    "\n",
    "# Cumsum on rows.\n",
    "dev  = dev.cumsum()\n",
    "prod = prod.cumsum()\n",
    "\n",
    "# Take a look.\n",
    "dev.head()"
   ]
  },
  {
   "cell_type": "code",
   "execution_count": 5,
   "metadata": {
    "tags": [
     "Evaluation"
    ]
   },
   "outputs": [
    {
     "data": {
      "text/html": [
       "<div>\n",
       "<style scoped>\n",
       "    .dataframe tbody tr th:only-of-type {\n",
       "        vertical-align: middle;\n",
       "    }\n",
       "\n",
       "    .dataframe tbody tr th {\n",
       "        vertical-align: top;\n",
       "    }\n",
       "\n",
       "    .dataframe thead th {\n",
       "        text-align: right;\n",
       "    }\n",
       "</style>\n",
       "<table border=\"1\" class=\"dataframe\">\n",
       "  <thead>\n",
       "    <tr style=\"text-align: right;\">\n",
       "      <th></th>\n",
       "      <th>lemma count</th>\n",
       "      <th>elapsed_time</th>\n",
       "    </tr>\n",
       "  </thead>\n",
       "  <tbody>\n",
       "    <tr>\n",
       "      <th>0</th>\n",
       "      <td>0.123</td>\n",
       "      <td>1.659729</td>\n",
       "    </tr>\n",
       "    <tr>\n",
       "      <th>1</th>\n",
       "      <td>0.173</td>\n",
       "      <td>1.660389</td>\n",
       "    </tr>\n",
       "    <tr>\n",
       "      <th>2</th>\n",
       "      <td>0.319</td>\n",
       "      <td>1.661368</td>\n",
       "    </tr>\n",
       "    <tr>\n",
       "      <th>3</th>\n",
       "      <td>0.461</td>\n",
       "      <td>1.662303</td>\n",
       "    </tr>\n",
       "    <tr>\n",
       "      <th>4</th>\n",
       "      <td>0.557</td>\n",
       "      <td>1.663042</td>\n",
       "    </tr>\n",
       "  </tbody>\n",
       "</table>\n",
       "</div>"
      ],
      "text/plain": [
       "   lemma count  elapsed_time\n",
       "0        0.123      1.659729\n",
       "1        0.173      1.660389\n",
       "2        0.319      1.661368\n",
       "3        0.461      1.662303\n",
       "4        0.557      1.663042"
      ]
     },
     "execution_count": 5,
     "metadata": {},
     "output_type": "execute_result"
    }
   ],
   "source": [
    "# Take a look.\n",
    "prod.head()"
   ]
  },
  {
   "cell_type": "code",
   "execution_count": 6,
   "metadata": {
    "tags": [
     "Plot",
     "Evaluation"
    ]
   },
   "outputs": [
    {
     "data": {
      "image/png": "[encoded data removed]",
      "text/plain": [
       "<Figure size 720x432 with 1 Axes>"
      ]
     },
     "metadata": {
      "needs_background": "light"
     },
     "output_type": "display_data"
    }
   ],
   "source": [
    "# Plot the elapsed time information.\n",
    "\n",
    "# Set figure size.\n",
    "plt.figure(figsize=(10,6))\n",
    "\n",
    "\n",
    "plt.plot(dev['lemma count'], dev['elapsed_time'])\n",
    "plt.plot(prod['lemma count'], prod['elapsed_time'])\n",
    "\n",
    "plt.legend(['dev', 'prod'], loc='upper left')\n",
    "plt.xlabel('Words Processed (thousands)')\n",
    "\n",
    "plt.ylabel('Elapsed Time (sec)')\n",
    "plt.title('Processing Rate for n=100')\n",
    "\n",
    "plt.show()"
   ]
  }
 ],
 "metadata": {
  "celltoolbar": "Tags",
  "kernelspec": {
   "display_name": "Python 3",
   "language": "python",
   "name": "python3"
  },
  "language_info": {
   "codemirror_mode": {
    "name": "ipython",
    "version": 3
   },
   "file_extension": ".py",
   "mimetype": "text/x-python",
   "name": "python",
   "nbconvert_exporter": "python",
   "pygments_lexer": "ipython3",
   "version": "3.6.7"
  }
 },
 "nbformat": 4,
 "nbformat_minor": 2
}
