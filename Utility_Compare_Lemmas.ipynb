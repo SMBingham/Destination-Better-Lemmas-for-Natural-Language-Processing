{
 "cells": [
  {
   "cell_type": "markdown",
   "metadata": {},
   "source": [
    "# Capstone Project: Improving NLTK's Lemmatization Process\n",
    "\n",
    "Submitted by Shannon Bingham\n",
    "February 2019\n",
    "\n",
    "\n",
    "## Executive Summary\n",
    "The Natural Language Toolkit (NLTK) is a widely used open source solution for computer processing and analysis of human language.  The toolkit includes many useful utilities including an interface to the WordNet lexical reference database.  When I used the toolkit's stemming and lemmatizing programs for a Natural Language Processing (NLP) classification project at General Assembly, I grew very curious about first, the data that was being created, and second, the logic going on under the hood.  My questions led me to wonder about how I could improve the quality of my input data, especially given that the sheer number of features in an NLP project makes it quite challenging to understand what the data looks like.\n",
    "\n",
    "For my capstone project, I decided to improve the NLTK interface to WordNet.  My work on this project led to many interesting insights about electronic dictionaries as well as about language processing in general.  Over the course of  project, I became more deeply interested in NLP, an area in data science that is growing rapidly.  The changes that I made to the toolkit built a foundation that provides greater control over the lemmatization process and, thus, more opportunity to improve data.  The changes will be available for implementation anywhere.\n",
    "\n",
    "## Notebook Description\n",
    "This notebook includes all the code I used to compare the lemmas created by the production version of the lemmatizer and my test version.  Please note the Setup cell that drives the variables substitutions."
   ]
  },
  {
   "cell_type": "markdown",
   "metadata": {
    "tags": [
     "Setup"
    ]
   },
   "source": [
    "## Set up environment."
   ]
  },
  {
   "cell_type": "code",
   "execution_count": 1,
   "metadata": {
    "tags": [
     "Setup"
    ]
   },
   "outputs": [],
   "source": [
    "# Import libraries.\n",
    "import pandas as pd\n",
    "import numpy as np\n",
    "import random\n",
    "\n",
    "# Increase number of columns that can be viewed in notebook.\n",
    "pd.set_option('display.max_columns', 500)\n",
    "\n",
    "# Set random seed.\n",
    "random.seed(42)"
   ]
  },
  {
   "cell_type": "code",
   "execution_count": 2,
   "metadata": {
    "tags": [
     "Setup"
    ]
   },
   "outputs": [
    {
     "name": "stdout",
     "output_type": "stream",
     "text": [
      "** The dev  lemmas will be loaded from \"./data/lemmas_dev_s100.csv\". **\n",
      "\n",
      "** The prod lemmas will be loaded from \"./data/lemmas_prod_s100.csv\". **\n"
     ]
    }
   ],
   "source": [
    "# Specify the number of reviews of each type (pos and neg) being sampled.\n",
    "n = 50\n",
    "\n",
    "# Set file location for input files\n",
    "dev_csv    = (f'./data/lemmas_dev_s{n*2}.csv')\n",
    "prod_csv   = (f'./data/lemmas_prod_s{n*2}.csv')\n",
    "# Locate the file.\n",
    "\n",
    "# Print messages.\n",
    "print(f'** The dev  lemmas will be loaded from \"{dev_csv}\". **')\n",
    "print()\n",
    "print(f'** The prod lemmas will be loaded from \"{prod_csv}\". **')"
   ]
  },
  {
   "cell_type": "code",
   "execution_count": 3,
   "metadata": {
    "tags": [
     "Setup"
    ]
   },
   "outputs": [
    {
     "data": {
      "text/html": [
       "<div>\n",
       "<style scoped>\n",
       "    .dataframe tbody tr th:only-of-type {\n",
       "        vertical-align: middle;\n",
       "    }\n",
       "\n",
       "    .dataframe tbody tr th {\n",
       "        vertical-align: top;\n",
       "    }\n",
       "\n",
       "    .dataframe thead th {\n",
       "        text-align: right;\n",
       "    }\n",
       "</style>\n",
       "<table border=\"1\" class=\"dataframe\">\n",
       "  <thead>\n",
       "    <tr style=\"text-align: right;\">\n",
       "      <th></th>\n",
       "      <th>label</th>\n",
       "      <th>lemmas</th>\n",
       "    </tr>\n",
       "  </thead>\n",
       "  <tbody>\n",
       "    <tr>\n",
       "      <th>0</th>\n",
       "      <td>1</td>\n",
       "      <td>i wa very impressed with this small independen...</td>\n",
       "    </tr>\n",
       "    <tr>\n",
       "      <th>1</th>\n",
       "      <td>1</td>\n",
       "      <td>shot in the heart is wonderful it brilliantly ...</td>\n",
       "    </tr>\n",
       "    <tr>\n",
       "      <th>2</th>\n",
       "      <td>1</td>\n",
       "      <td>i have not seen this in over yr but i still re...</td>\n",
       "    </tr>\n",
       "    <tr>\n",
       "      <th>3</th>\n",
       "      <td>1</td>\n",
       "      <td>police story brought hong kong movie to modern...</td>\n",
       "    </tr>\n",
       "    <tr>\n",
       "      <th>4</th>\n",
       "      <td>1</td>\n",
       "      <td>the word classic is thrown around too loosely ...</td>\n",
       "    </tr>\n",
       "  </tbody>\n",
       "</table>\n",
       "</div>"
      ],
      "text/plain": [
       "   label                                             lemmas\n",
       "0      1  i wa very impressed with this small independen...\n",
       "1      1  shot in the heart is wonderful it brilliantly ...\n",
       "2      1  i have not seen this in over yr but i still re...\n",
       "3      1  police story brought hong kong movie to modern...\n",
       "4      1  the word classic is thrown around too loosely ..."
      ]
     },
     "execution_count": 3,
     "metadata": {},
     "output_type": "execute_result"
    }
   ],
   "source": [
    "# Load the data.\n",
    "dev = pd.read_csv(dev_csv)\n",
    "prod = pd.read_csv(prod_csv)\n",
    "\n",
    "# Take a look. \n",
    "prod.head()"
   ]
  },
  {
   "cell_type": "code",
   "execution_count": 4,
   "metadata": {
    "tags": [
     "Setup"
    ]
   },
   "outputs": [
    {
     "name": "stdout",
     "output_type": "stream",
     "text": [
      "(100, 2)\n",
      "(100, 2)\n"
     ]
    }
   ],
   "source": [
    "# Check the shapes.\n",
    "print(dev.shape)\n",
    "print(prod.shape)"
   ]
  },
  {
   "cell_type": "markdown",
   "metadata": {
    "tags": [
     "Analysis"
    ]
   },
   "source": [
    "## Compare lemmas."
   ]
  },
  {
   "cell_type": "code",
   "execution_count": 5,
   "metadata": {
    "tags": [
     "Analysis"
    ]
   },
   "outputs": [
    {
     "data": {
      "text/plain": [
       "829"
      ]
     },
     "execution_count": 5,
     "metadata": {},
     "output_type": "execute_result"
    }
   ],
   "source": [
    "# Initialize a list to hold the differences.\n",
    "diff_list = []\n",
    "\n",
    "for i in range(0, len(dev)):\n",
    "    dev_list  = dev.iloc[i]['lemmas'].split(\" \")\n",
    "    prod_list = prod.iloc[i]['lemmas'].split(\" \")\n",
    "    \n",
    "    for l in range(0,len(dev_list)):\n",
    "        if dev_list[l] != prod_list[l]:\n",
    "            diff_list.append((dev_list[l], prod_list[l]))\n",
    "\n",
    "# Remove duplicates.\n",
    "diff_set = set(diff_list)\n",
    "\n",
    "# Calculate the number of unique values.\n",
    "len(diff_set)\n",
    "\n",
    "# Calculate the number of unique values.\n",
    "len(diff_set)"
   ]
  },
  {
   "cell_type": "code",
   "execution_count": 7,
   "metadata": {
    "tags": [
     "Analysis"
    ]
   },
   "outputs": [
    {
     "data": {
      "text/html": [
       "<div>\n",
       "<style scoped>\n",
       "    .dataframe tbody tr th:only-of-type {\n",
       "        vertical-align: middle;\n",
       "    }\n",
       "\n",
       "    .dataframe tbody tr th {\n",
       "        vertical-align: top;\n",
       "    }\n",
       "\n",
       "    .dataframe thead th {\n",
       "        text-align: right;\n",
       "    }\n",
       "</style>\n",
       "<table border=\"1\" class=\"dataframe\">\n",
       "  <thead>\n",
       "    <tr style=\"text-align: right;\">\n",
       "      <th></th>\n",
       "      <th>dev lemma</th>\n",
       "      <th>prod lemma</th>\n",
       "    </tr>\n",
       "  </thead>\n",
       "  <tbody>\n",
       "    <tr>\n",
       "      <th>0</th>\n",
       "      <td>stun</td>\n",
       "      <td>stunning</td>\n",
       "    </tr>\n",
       "    <tr>\n",
       "      <th>1</th>\n",
       "      <td>annoy</td>\n",
       "      <td>annoying</td>\n",
       "    </tr>\n",
       "    <tr>\n",
       "      <th>2</th>\n",
       "      <td>remind</td>\n",
       "      <td>reminded</td>\n",
       "    </tr>\n",
       "    <tr>\n",
       "      <th>3</th>\n",
       "      <td>try</td>\n",
       "      <td>trying</td>\n",
       "    </tr>\n",
       "    <tr>\n",
       "      <th>4</th>\n",
       "      <td>air</td>\n",
       "      <td>aired</td>\n",
       "    </tr>\n",
       "  </tbody>\n",
       "</table>\n",
       "</div>"
      ],
      "text/plain": [
       "  dev lemma prod lemma\n",
       "0      stun   stunning\n",
       "1     annoy   annoying\n",
       "2    remind   reminded\n",
       "3       try     trying\n",
       "4       air      aired"
      ]
     },
     "execution_count": 7,
     "metadata": {},
     "output_type": "execute_result"
    }
   ],
   "source": [
    "# Load to a dataframe if analysis is desired. \n",
    "\n",
    "# Get it back into list format.\n",
    "diff_list = list(diff_set)\n",
    "\n",
    "df = pd.DataFrame(diff_list, columns=['dev lemma', 'prod lemma'])\n",
    "df.head()"
   ]
  },
  {
   "cell_type": "code",
   "execution_count": null,
   "metadata": {},
   "outputs": [],
   "source": []
  }
 ],
 "metadata": {
  "celltoolbar": "Tags",
  "kernelspec": {
   "display_name": "Python 3",
   "language": "python",
   "name": "python3"
  },
  "language_info": {
   "codemirror_mode": {
    "name": "ipython",
    "version": 3
   },
   "file_extension": ".py",
   "mimetype": "text/x-python",
   "name": "python",
   "nbconvert_exporter": "python",
   "pygments_lexer": "ipython3",
   "version": "3.6.7"
  }
 },
 "nbformat": 4,
 "nbformat_minor": 2
}
